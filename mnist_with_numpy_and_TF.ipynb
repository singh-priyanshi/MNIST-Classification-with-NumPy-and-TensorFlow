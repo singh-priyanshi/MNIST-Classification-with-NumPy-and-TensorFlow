{
  "nbformat": 4,
  "nbformat_minor": 0,
  "metadata": {
    "colab": {
      "provenance": [],
      "gpuType": "T4"
    },
    "kernelspec": {
      "name": "python3",
      "display_name": "Python 3"
    },
    "language_info": {
      "name": "python"
    },
    "accelerator": "GPU"
  },
  "cells": [
    {
      "cell_type": "markdown",
      "metadata": {
        "id": "App_4dZ3qkKw"
      },
      "source": [
        "# Train MNIST with only NumPy\n"
      ]
    },
    {
      "cell_type": "code",
      "metadata": {
        "id": "wYH3Jv9bqhMt"
      },
      "source": [
        "import numpy as np\n",
        "import tensorflow as tf # only for data\n",
        "import matplotlib.pyplot as plt"
      ],
      "execution_count": null,
      "outputs": []
    },
    {
      "cell_type": "markdown",
      "metadata": {
        "id": "Z_1tkhydqzCF"
      },
      "source": [
        "Before loading data, we will just make some quick utility functions"
      ]
    },
    {
      "cell_type": "code",
      "metadata": {
        "id": "aQu8d5a909WZ"
      },
      "source": [
        "def to_categorical(x, n_col=None):\n",
        "  \"\"\" One hot encoding function\"\"\"\n",
        "  if not n_col:\n",
        "    n_col = np.amax(x) + 1\n",
        "\n",
        "  one_hot = np.zeros((x.shape[0], n_col))\n",
        "  one_hot[np.arange(x.shape[0]), x] = 1\n",
        "  return one_hot"
      ],
      "execution_count": null,
      "outputs": []
    },
    {
      "cell_type": "code",
      "metadata": {
        "id": "cHApDc_1-fQi"
      },
      "source": [
        "def accuracy(y_true, y_pred):\n",
        "  ### Returns accuracy ###\n",
        "  return np.sum(y_true == y_pred, axis = 0) / len(y_true)"
      ],
      "execution_count": null,
      "outputs": []
    },
    {
      "cell_type": "code",
      "metadata": {
        "id": "nmE3CPCs-oTG"
      },
      "source": [
        "def batch_loader(X, y = None, batch_size=64):\n",
        "  \"\"\" Generates batches for training\"\"\"\n",
        "  n_samples = X.shape[0]\n",
        "  for i in np.arange(0, n_samples, batch_size):\n",
        "    begin, end = i, min(i + batch_size, n_samples)\n",
        "    if y is not None:\n",
        "      yield X[begin:end], y[begin: end]\n",
        "    else:\n",
        "      yield X[begin:end]"
      ],
      "execution_count": null,
      "outputs": []
    },
    {
      "cell_type": "markdown",
      "metadata": {
        "id": "a4tXS6ccve_F"
      },
      "source": [
        "## Data\n",
        "\n",
        "We will load and process the data here"
      ]
    },
    {
      "cell_type": "code",
      "metadata": {
        "colab": {
          "base_uri": "https://localhost:8080/"
        },
        "id": "a0H74_Sq-6Wd",
        "outputId": "783ac147-1326-4bcd-f3b0-7ba44e1e8228"
      },
      "source": [
        "## Now, lets load mnist\n",
        "(X_train, y_train), (X_test, y_test) = tf.keras.datasets.mnist.load_data()\n",
        "# This is the only time we use tensorflow"
      ],
      "execution_count": null,
      "outputs": [
        {
          "output_type": "stream",
          "name": "stdout",
          "text": [
            "Downloading data from https://storage.googleapis.com/tensorflow/tf-keras-datasets/mnist.npz\n",
            "\u001b[1m11490434/11490434\u001b[0m \u001b[32m━━━━━━━━━━━━━━━━━━━━\u001b[0m\u001b[37m\u001b[0m \u001b[1m0s\u001b[0m 0us/step\n"
          ]
        }
      ]
    },
    {
      "cell_type": "code",
      "metadata": {
        "id": "FQ8s1jnz_Cce"
      },
      "source": [
        "y_train, y_test = to_categorical(y_train.astype(\"int\")), to_categorical(y_test.astype(\"int\"))\n",
        "X_train, X_test = X_train / 255.0, X_test / 255.0"
      ],
      "execution_count": null,
      "outputs": []
    },
    {
      "cell_type": "code",
      "metadata": {
        "colab": {
          "base_uri": "https://localhost:8080/"
        },
        "id": "0kn_NrQM_KqX",
        "outputId": "45965f1a-1bdd-4779-a14f-5b9df868bda5"
      },
      "source": [
        "X_train, X_test = X_train.reshape(-1, 28*28), X_test.reshape(-1, 28*28)\n",
        "X_train.shape, X_test.shape"
      ],
      "execution_count": null,
      "outputs": [
        {
          "output_type": "execute_result",
          "data": {
            "text/plain": [
              "((60000, 784), (10000, 784))"
            ]
          },
          "metadata": {},
          "execution_count": 7
        }
      ]
    },
    {
      "cell_type": "code",
      "metadata": {
        "id": "rEv0fLNr_QFG"
      },
      "source": [
        "n_input_dim = 28*28 # 784\n",
        "n_out = 10 # 10 classes"
      ],
      "execution_count": null,
      "outputs": []
    },
    {
      "cell_type": "code",
      "source": [
        "#Visualize a few examples from the dataset\n",
        "\n",
        "plt.figure(figsize=(10, 10))\n",
        "for i in range(9):\n",
        "    plt.subplot(3, 3, i+1)\n",
        "    plt.imshow(X_train[i].reshape(28, 28), cmap='gray')\n",
        "    plt.title(f\"Label: {y_train[i]}\")\n",
        "    plt.axis('off')\n",
        "plt.show()"
      ],
      "metadata": {
        "colab": {
          "base_uri": "https://localhost:8080/",
          "height": 829
        },
        "id": "5ZigDkwuF17k",
        "outputId": "ebec335f-f20d-46e2-9e37-af31277da320"
      },
      "execution_count": null,
      "outputs": [
        {
          "output_type": "display_data",
          "data": {
            "text/plain": [
              "<Figure size 1000x1000 with 9 Axes>"
            ],
            "image/png": "[encoded data removed]"
          },
          "metadata": {}
        }
      ]
    },
    {
      "cell_type": "markdown",
      "metadata": {
        "id": "p578gOejviiY"
      },
      "source": [
        "## Loss and activation\n",
        "\n",
        "We implement the loss and activation functions here"
      ]
    },
    {
      "cell_type": "code",
      "metadata": {
        "id": "oVh6SOS8_Ub6"
      },
      "source": [
        "# Now lets implement the loss and activation functions\n",
        "class CrossEntropy():\n",
        "  def __init__(self): pass\n",
        "\n",
        "  def loss(self, y, p):\n",
        "    p = np.clip(p, 1e-15, 1- 1e-15)\n",
        "    return -y*np.log(p) - (1 - y) * np.log(1- p)\n",
        "\n",
        "  def gradient(self, y, p):\n",
        "    p = np.clip(p, 1e-15, 1- 1e-15)\n",
        "    return -(y/p) + (1 - y) / (1 - p)"
      ],
      "execution_count": null,
      "outputs": []
    },
    {
      "cell_type": "code",
      "metadata": {
        "id": "sHsVGy6W_mjf"
      },
      "source": [
        "# Now for our 2 activation functions, leakyReLU and Softmax"
      ],
      "execution_count": null,
      "outputs": []
    },
    {
      "cell_type": "code",
      "metadata": {
        "id": "c6uP2aKz_pB4"
      },
      "source": [
        "class LeakyReLU():\n",
        "  def __init__(self, alpha = 0.2):\n",
        "    self.alpha = alpha\n",
        "\n",
        "  def __call__(self, x):\n",
        "    return self.activation(x)\n",
        "\n",
        "  def activation(self, x):\n",
        "    return np.where(x >= 0, x, self.alpha * x)\n",
        "\n",
        "  def gradient(self, x):\n",
        "    return np.where(x >= 0, 1, self.alpha)"
      ],
      "execution_count": null,
      "outputs": []
    },
    {
      "cell_type": "code",
      "metadata": {
        "id": "85jbE9_M_29Y"
      },
      "source": [
        "class Softmax():\n",
        "  def __init__(self): pass\n",
        "\n",
        "  def __call__(self, x):\n",
        "    return self.activation(x)\n",
        "\n",
        "  def activation(self, x):\n",
        "    e_x = np.exp(x - np.max(x, axis = -1, keepdims=True))\n",
        "    return e_x / np.sum(e_x, axis=-1, keepdims = True)\n",
        "\n",
        "  def gradient(self, x):\n",
        "    # Error was in our softmax\n",
        "    p = self.activation(x)\n",
        "    return p * (1 - p)"
      ],
      "execution_count": null,
      "outputs": []
    },
    {
      "cell_type": "markdown",
      "metadata": {
        "id": "lSQ8U2WbkzVq"
      },
      "source": [
        "## Layers\n",
        "\n",
        "We will implement the layers now\n",
        "\n",
        "1. Activation Layer - its a wrapper for the activations\n",
        "2. Linear Layer - these are the layers that form the basis for the neural network"
      ]
    },
    {
      "cell_type": "code",
      "metadata": {
        "id": "wLl6eUeMlLW_"
      },
      "source": [
        "class Activation():\n",
        "  def __init__(self, activation, name=\"activation\"):\n",
        "    self.activation = activation\n",
        "    self.gradient = activation.gradient\n",
        "    self.input = None\n",
        "    self.output = None\n",
        "    self.name = name\n",
        "\n",
        "  def forward(self, x):\n",
        "    self.input = x\n",
        "    self.output = self.activation(x)\n",
        "    return self.output\n",
        "\n",
        "  def backward(self, output_error, lr = 0.01):\n",
        "    return self.gradient(self.input) * output_error\n",
        "\n",
        "  def __call__(self, x):\n",
        "    return self.forward(x)"
      ],
      "execution_count": null,
      "outputs": []
    },
    {
      "cell_type": "code",
      "metadata": {
        "id": "K0ohV3dWliq2"
      },
      "source": [
        "class Linear():\n",
        "  def __init__(self, n_in, n_out, name=\"linear\"):\n",
        "    limit = 1 / np.sqrt(n_in)\n",
        "    self.W = np.random.uniform(-limit, limit, (n_in, n_out))\n",
        "    self.b = np.zeros((1, n_out)) # Biases\n",
        "    self.input = None\n",
        "    self.output = None\n",
        "    self.name = name\n",
        "\n",
        "  def forward(self, x):\n",
        "    self.input = x\n",
        "    self.output = np.dot(self.input, self.W) + self.b # Wx + b\n",
        "    return self.output\n",
        "\n",
        "  def backward(self, output_error, lr = 0.01):\n",
        "    input_error = np.dot(output_error, self.W.T)\n",
        "    delta = np.dot(self.input.T, output_error) # Calculate the weights error\n",
        "\n",
        "    # Usually, we would allow an optimizer function to update the weights\n",
        "    # but here, we just use simple SGD\n",
        "    self.W -= lr * delta\n",
        "    self.b -= lr * np.mean(output_error)\n",
        "    # We updated the weights below\n",
        "    return input_error\n",
        "\n",
        "  def __call__(self, x):\n",
        "    return self.forward(x)"
      ],
      "execution_count": null,
      "outputs": []
    },
    {
      "cell_type": "markdown",
      "metadata": {
        "id": "BOTHZGcLmHR0"
      },
      "source": [
        "## Network\n",
        "\n",
        "Let's create the network class"
      ]
    },
    {
      "cell_type": "code",
      "metadata": {
        "id": "fll27NjZmM0P"
      },
      "source": [
        "class Network():\n",
        "  def __init__(self, input_dim, output_dim, lr=0.01):\n",
        "    # input_dim = 784, output_dim = 10 for mnist\n",
        "    self.layers = [\n",
        "                   Linear(input_dim, 256, name=\"input\"),\n",
        "                   Activation(LeakyReLU(), name=\"relu1\"),\n",
        "                   Linear(256, 128, name=\"input\"),\n",
        "                   Activation(LeakyReLU(), name=\"relu2\"),\n",
        "                   Linear(128, output_dim, name=\"output\"),\n",
        "                   Activation(Softmax(), name=\"softmax\")\n",
        "    ]\n",
        "    self.lr = lr\n",
        "\n",
        "  def forward(self, x):\n",
        "    for layer in self.layers:\n",
        "      x = layer(x)\n",
        "    return x\n",
        "\n",
        "  def backward(self, loss_grad):\n",
        "    for layer in reversed(self.layers):\n",
        "      loss_grad = layer.backward(loss_grad, self.lr)\n",
        "    # Iterating backwards through the layers\n",
        "\n",
        "  def __call__(self, x):\n",
        "    return self.forward(x)"
      ],
      "execution_count": null,
      "outputs": []
    },
    {
      "cell_type": "markdown",
      "metadata": {
        "id": "P56dpwKVvnDz"
      },
      "source": [
        "## Training\n",
        "\n",
        "Our training loop is similar to a pytorch training loop\n",
        "\n",
        "1. We do the forward pass\n",
        "2. Calculate the loss/gradient\n",
        "3. Send it backwards through the model\n",
        "\n",
        "Note we dont have to anything like `optimizer.step()` or `optimizer.zero_grad()` like in pytorch, and that's because we didnt implement any optimizer like Adam, we just use SGD"
      ]
    },
    {
      "cell_type": "code",
      "metadata": {
        "id": "15aG9bzgnz6y"
      },
      "source": [
        "criterion = CrossEntropy()\n",
        "model = Network(n_input_dim, n_out, lr=1e-3)"
      ],
      "execution_count": null,
      "outputs": []
    },
    {
      "cell_type": "code",
      "metadata": {
        "id": "-wI6niuqn5dz"
      },
      "source": [
        "EPOCHS = 5"
      ],
      "execution_count": null,
      "outputs": []
    },
    {
      "cell_type": "code",
      "metadata": {
        "colab": {
          "base_uri": "https://localhost:8080/"
        },
        "id": "MiuKsXYLn9SJ",
        "outputId": "39c5b41b-4789-4bb0-c833-43f73cf712b3"
      },
      "source": [
        "for epoch in range(EPOCHS):\n",
        "  loss = []\n",
        "  acc = []\n",
        "  for x_batch, y_batch in batch_loader(X_train, y_train):\n",
        "    out = model(x_batch) # Forward pass\n",
        "    loss.append(np.mean(criterion.loss(y_batch, out))) # Loss - for display\n",
        "    # We just passed the inputs incorrectly.\n",
        "    acc.append(accuracy(np.argmax(y_batch, axis=1), np.argmax(out, axis=1))) # Accuracy - FOr display\n",
        "    error = criterion.gradient(y_batch, out) # Calculate gradient of loss\n",
        "    model.backward(error) # Backpropagation\n",
        "\n",
        "  print(f\"Epoch {epoch + 1}, Loss: {np.mean(loss)}, Acc: {np.mean(acc)}\")"
      ],
      "execution_count": null,
      "outputs": [
        {
          "output_type": "stream",
          "name": "stdout",
          "text": [
            "Epoch 1, Loss: 0.09211185166235768, Acc: 0.8522621268656716\n",
            "Epoch 2, Loss: 0.04245934333840815, Acc: 0.9273887260127932\n",
            "Epoch 3, Loss: 0.032155084024586486, Acc: 0.9463286247334755\n",
            "Epoch 4, Loss: 0.02584794560451519, Acc: 0.9566897654584222\n",
            "Epoch 5, Loss: 0.02153663037347205, Acc: 0.9645855543710021\n"
          ]
        }
      ]
    },
    {
      "cell_type": "code",
      "metadata": {
        "colab": {
          "base_uri": "https://localhost:8080/"
        },
        "id": "QxQLu059p6u5",
        "outputId": "49b79d30-c129-4a8c-ab66-4e05f9e5f8cd"
      },
      "source": [
        "out = model(X_test) # Now we run the model on the test set\n",
        "accuracy(np.argmax(y_test, axis=1), np.argmax(out, axis=1)) # We get an accuracy of 96%"
      ],
      "execution_count": null,
      "outputs": [
        {
          "output_type": "execute_result",
          "data": {
            "text/plain": [
              "0.9622"
            ]
          },
          "metadata": {},
          "execution_count": 20
        }
      ]
    },
    {
      "cell_type": "code",
      "source": [
        "from sklearn.metrics import classification_report, confusion_matrix\n",
        "\n",
        "# Get the predicted labels for the test set\n",
        "y_pred = np.argmax(out, axis=1)\n",
        "y_true = np.argmax(y_test, axis=1)\n",
        "\n",
        "# Print the classification report\n",
        "print(classification_report(y_true, y_pred))\n",
        "\n",
        "# Print the confusion matrix\n",
        "print(confusion_matrix(y_true, y_pred))\n"
      ],
      "metadata": {
        "colab": {
          "base_uri": "https://localhost:8080/"
        },
        "id": "Nb4eo9qIGmg-",
        "outputId": "3e38be38-d071-4234-e817-de5354c04253"
      },
      "execution_count": null,
      "outputs": [
        {
          "output_type": "stream",
          "name": "stdout",
          "text": [
            "              precision    recall  f1-score   support\n",
            "\n",
            "           0       0.97      0.99      0.98       980\n",
            "           1       0.97      0.99      0.98      1135\n",
            "           2       0.97      0.96      0.96      1032\n",
            "           3       0.96      0.95      0.96      1010\n",
            "           4       0.96      0.97      0.96       982\n",
            "           5       0.93      0.97      0.95       892\n",
            "           6       0.97      0.95      0.96       958\n",
            "           7       0.98      0.94      0.96      1028\n",
            "           8       0.97      0.95      0.96       974\n",
            "           9       0.95      0.95      0.95      1009\n",
            "\n",
            "    accuracy                           0.96     10000\n",
            "   macro avg       0.96      0.96      0.96     10000\n",
            "weighted avg       0.96      0.96      0.96     10000\n",
            "\n",
            "[[ 966    0    0    2    1    5    2    1    2    1]\n",
            " [   0 1126    2    1    0    1    2    1    2    0]\n",
            " [   7    7  986   10    6    1    5    3    7    0]\n",
            " [   1    1    4  964    1   20    0    7    7    5]\n",
            " [   1    0    3    0  953    0    7    2    2   14]\n",
            " [   5    1    0    4    2  866    7    0    4    3]\n",
            " [   9    3    1    0    4   23  913    1    4    0]\n",
            " [   0   12   12    6    5    1    0  964    1   27]\n",
            " [   3    3    3   11    7   11    6    3  924    3]\n",
            " [   5    8    1    9   18    4    1    2    1  960]]\n"
          ]
        }
      ]
    },
    {
      "cell_type": "code",
      "source": [
        "# Get predictions and confidence scores for the test data\n",
        "y_pred_probs = model(X_test)\n",
        "y_pred = np.argmax(y_pred_probs, axis=1)\n",
        "y_true = np.argmax(y_test, axis=1)\n",
        "confidence_scores = np.max(y_pred_probs, axis=1)\n",
        "\n",
        "# Visualize some examples with confidence scores\n",
        "plt.figure(figsize=(15, 15))\n",
        "for i in range(9):\n",
        "    plt.subplot(3, 3, i+1)\n",
        "    plt.imshow(X_test[i].reshape(28, 28), cmap='gray')\n",
        "    plt.title(f\"True: {y_true[i]}, Pred: {y_pred[i]}, Conf: {confidence_scores[i]:.2f}\")\n",
        "    plt.axis('off')\n",
        "plt.show()\n"
      ],
      "metadata": {
        "colab": {
          "base_uri": "https://localhost:8080/",
          "height": 1000
        },
        "id": "PpLdRSmYGtJ6",
        "outputId": "efc402ad-acce-4412-a67f-ea223750222c"
      },
      "execution_count": null,
      "outputs": [
        {
          "output_type": "display_data",
          "data": {
            "text/plain": [
              "<Figure size 1500x1500 with 9 Axes>"
            ],
            "image/png": "[encoded data removed]"
          },
          "metadata": {}
        }
      ]
    },
    {
      "cell_type": "markdown",
      "source": [
        "# MNIST with Tensorflow"
      ],
      "metadata": {
        "id": "w2d5YLOcHe32"
      }
    },
    {
      "cell_type": "code",
      "source": [
        "import tensorflow as tf\n",
        "from tensorflow.keras.models import Sequential\n",
        "from tensorflow.keras.layers import Dense, Flatten\n",
        "from tensorflow.keras.utils import to_categorical\n",
        "\n",
        "# Load MNIST dataset\n",
        "(X_train, y_train), (X_test, y_test) = tf.keras.datasets.mnist.load_data()\n",
        "\n",
        "# Preprocess the data\n",
        "X_train = X_train.astype('float32') / 255.0\n",
        "X_test = X_test.astype('float32') / 255.0\n",
        "y_train = to_categorical(y_train, num_classes=10)\n",
        "y_test = to_categorical(y_test, num_classes=10)\n",
        "\n",
        "# Build the model\n",
        "model = Sequential()\n",
        "model.add(Flatten(input_shape=(28, 28)))\n",
        "model.add(Dense(128, activation='relu'))\n",
        "model.add(Dense(10, activation='softmax'))\n",
        "\n",
        "# Compile the model\n",
        "model.compile(optimizer='adam', loss='categorical_crossentropy', metrics=['accuracy'])\n",
        "\n",
        "# Train the model\n",
        "model.fit(X_train, y_train, epochs=5, batch_size=32, validation_data=(X_test, y_test))\n",
        "\n",
        "# Evaluate the model\n",
        "loss, accuracy = model.evaluate(X_test, y_test)\n",
        "print('Test accuracy:', accuracy)\n"
      ],
      "metadata": {
        "colab": {
          "base_uri": "https://localhost:8080/"
        },
        "id": "fC9EBDBHHj_h",
        "outputId": "9ae2e0bf-2af4-4a21-9c69-5efb48913d90"
      },
      "execution_count": null,
      "outputs": [
        {
          "output_type": "stream",
          "name": "stderr",
          "text": [
            "/usr/local/lib/python3.10/dist-packages/keras/src/layers/reshaping/flatten.py:37: UserWarning: Do not pass an `input_shape`/`input_dim` argument to a layer. When using Sequential models, prefer using an `Input(shape)` object as the first layer in the model instead.\n",
            "  super().__init__(**kwargs)\n"
          ]
        },
        {
          "output_type": "stream",
          "name": "stdout",
          "text": [
            "Epoch 1/5\n",
            "\u001b[1m1875/1875\u001b[0m \u001b[32m━━━━━━━━━━━━━━━━━━━━\u001b[0m\u001b[37m\u001b[0m \u001b[1m10s\u001b[0m 4ms/step - accuracy: 0.8818 - loss: 0.4239 - val_accuracy: 0.9605 - val_loss: 0.1331\n",
            "Epoch 2/5\n",
            "\u001b[1m1875/1875\u001b[0m \u001b[32m━━━━━━━━━━━━━━━━━━━━\u001b[0m\u001b[37m\u001b[0m \u001b[1m9s\u001b[0m 5ms/step - accuracy: 0.9655 - loss: 0.1180 - val_accuracy: 0.9713 - val_loss: 0.0922\n",
            "Epoch 3/5\n",
            "\u001b[1m1875/1875\u001b[0m \u001b[32m━━━━━━━━━━━━━━━━━━━━\u001b[0m\u001b[37m\u001b[0m \u001b[1m10s\u001b[0m 4ms/step - accuracy: 0.9765 - loss: 0.0776 - val_accuracy: 0.9726 - val_loss: 0.0854\n",
            "Epoch 4/5\n",
            "\u001b[1m1875/1875\u001b[0m \u001b[32m━━━━━━━━━━━━━━━━━━━━\u001b[0m\u001b[37m\u001b[0m \u001b[1m19s\u001b[0m 9ms/step - accuracy: 0.9819 - loss: 0.0580 - val_accuracy: 0.9746 - val_loss: 0.0819\n",
            "Epoch 5/5\n",
            "\u001b[1m1875/1875\u001b[0m \u001b[32m━━━━━━━━━━━━━━━━━━━━\u001b[0m\u001b[37m\u001b[0m \u001b[1m12s\u001b[0m 5ms/step - accuracy: 0.9872 - loss: 0.0426 - val_accuracy: 0.9768 - val_loss: 0.0757\n",
            "\u001b[1m313/313\u001b[0m \u001b[32m━━━━━━━━━━━━━━━━━━━━\u001b[0m\u001b[37m\u001b[0m \u001b[1m0s\u001b[0m 1ms/step - accuracy: 0.9735 - loss: 0.0865\n",
            "Test accuracy: 0.9768000245094299\n"
          ]
        }
      ]
    },
    {
      "cell_type": "code",
      "source": [
        "from sklearn.metrics import classification_report, confusion_matrix\n",
        "\n",
        "# Get the predicted labels for the test set\n",
        "y_pred = np.argmax(out, axis=1)\n",
        "y_true = np.argmax(y_test, axis=1)\n",
        "\n",
        "# Print the classification report\n",
        "print(classification_report(y_true, y_pred))\n",
        "\n",
        "# Print the confusion matrix\n",
        "print(confusion_matrix(y_true, y_pred))"
      ],
      "metadata": {
        "colab": {
          "base_uri": "https://localhost:8080/"
        },
        "id": "O9dM9lnxIKJm",
        "outputId": "416c2e00-1943-433b-815a-57552ce02f79"
      },
      "execution_count": null,
      "outputs": [
        {
          "output_type": "stream",
          "name": "stdout",
          "text": [
            "              precision    recall  f1-score   support\n",
            "\n",
            "           0       0.97      0.99      0.98       980\n",
            "           1       0.97      0.99      0.98      1135\n",
            "           2       0.97      0.96      0.96      1032\n",
            "           3       0.96      0.95      0.96      1010\n",
            "           4       0.96      0.97      0.96       982\n",
            "           5       0.93      0.97      0.95       892\n",
            "           6       0.97      0.95      0.96       958\n",
            "           7       0.98      0.94      0.96      1028\n",
            "           8       0.97      0.95      0.96       974\n",
            "           9       0.95      0.95      0.95      1009\n",
            "\n",
            "    accuracy                           0.96     10000\n",
            "   macro avg       0.96      0.96      0.96     10000\n",
            "weighted avg       0.96      0.96      0.96     10000\n",
            "\n",
            "[[ 966    0    0    2    1    5    2    1    2    1]\n",
            " [   0 1126    2    1    0    1    2    1    2    0]\n",
            " [   7    7  986   10    6    1    5    3    7    0]\n",
            " [   1    1    4  964    1   20    0    7    7    5]\n",
            " [   1    0    3    0  953    0    7    2    2   14]\n",
            " [   5    1    0    4    2  866    7    0    4    3]\n",
            " [   9    3    1    0    4   23  913    1    4    0]\n",
            " [   0   12   12    6    5    1    0  964    1   27]\n",
            " [   3    3    3   11    7   11    6    3  924    3]\n",
            " [   5    8    1    9   18    4    1    2    1  960]]\n"
          ]
        }
      ]
    },
    {
      "cell_type": "code",
      "source": [
        "# Get predictions and confidence scores for the test data\n",
        "y_pred_probs = model(X_test)\n",
        "y_pred = np.argmax(y_pred_probs, axis=1)\n",
        "y_true = np.argmax(y_test, axis=1)\n",
        "confidence_scores = np.max(y_pred_probs, axis=1)\n",
        "\n",
        "# Visualize some examples with confidence scores\n",
        "plt.figure(figsize=(15, 15))\n",
        "for i in range(9):\n",
        "    plt.subplot(3, 3, i+1)\n",
        "    plt.imshow(X_test[i].reshape(28, 28), cmap='gray')\n",
        "    plt.title(f\"True: {y_true[i]}, Pred: {y_pred[i]}, Conf: {confidence_scores[i]:.2f}\")\n",
        "    plt.axis('off')\n",
        "plt.show()"
      ],
      "metadata": {
        "colab": {
          "base_uri": "https://localhost:8080/",
          "height": 1000
        },
        "id": "I2W5NODnIKxZ",
        "outputId": "a15e90b9-f88f-4129-d2f2-67f419bbb298"
      },
      "execution_count": null,
      "outputs": [
        {
          "output_type": "display_data",
          "data": {
            "text/plain": [
              "<Figure size 1500x1500 with 9 Axes>"
            ],
            "image/png": "[encoded data removed]"
          },
          "metadata": {}
        }
      ]
    },
    {
      "cell_type": "code",
      "source": [],
      "metadata": {
        "id": "5umfR36mIjdT"
      },
      "execution_count": null,
      "outputs": []
    }
  ]
}